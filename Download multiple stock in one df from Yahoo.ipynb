{
 "cells": [
  {
   "cell_type": "code",
   "execution_count": 1,
   "id": "ab463cc3",
   "metadata": {},
   "outputs": [],
   "source": [
    "# list of stocks that I am using for this question\n",
    "stocks_list = ['RELIANCE.NS', 'TCS.NS', 'HDFCBANK.NS', 'INFY.NS', 'HINDUNILVR.NS', 'ICICIBANK.NS', 'HDFC.NS', 'SBIN.NS', 'BAJFINANCE.NS', 'KOTAKBANK.NS']\n",
    "\n",
    "# downloading the data and joining them in one DataFrame\n",
    "dates = pd.date_range('2016-01-01', '2017-12-31')\n",
    "df = pd.DataFrame(columns=stocks_list, index=dates)\n",
    "for stock in stocks_list:\n",
    "    stock_data = yf.download(stock, '2016-01-01', '2017-12-31')\n",
    "    stock_data = stock_data['Adj Close']\n",
    "    df[stock] = stock_data\n",
    "\n",
    "df.dropna(inplace=True)"
   ]
  }
 ],
 "metadata": {
  "kernelspec": {
   "display_name": "Python 3 (ipykernel)",
   "language": "python",
   "name": "python3"
  },
  "language_info": {
   "codemirror_mode": {
    "name": "ipython",
    "version": 3
   },
   "file_extension": ".py",
   "mimetype": "text/x-python",
   "name": "python",
   "nbconvert_exporter": "python",
   "pygments_lexer": "ipython3",
   "version": "3.8.11"
  }
 },
 "nbformat": 4,
 "nbformat_minor": 5
}
